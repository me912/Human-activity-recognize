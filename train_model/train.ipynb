{
  "nbformat": 4,
  "nbformat_minor": 0,
  "metadata": {
    "colab": {
      "name": "train.ipynb",
      "provenance": [],
      "collapsed_sections": [],
      "authorship_tag": "ABX9TyNPTieK44i/thCJ+XWinsxl",
      "include_colab_link": true
    },
    "kernelspec": {
      "name": "python3",
      "display_name": "Python 3"
    },
    "language_info": {
      "name": "python"
    }
  },
  "cells": [
    {
      "cell_type": "markdown",
      "metadata": {
        "id": "view-in-github",
        "colab_type": "text"
      },
      "source": [
        "<a href=\"https://colab.research.google.com/github/me912/Human-activity-recognize/blob/main/train_model/train.ipynb\" target=\"_parent\"><img src=\"https://colab.research.google.com/assets/colab-badge.svg\" alt=\"Open In Colab\"/></a>"
      ]
    },
    {
      "cell_type": "code",
      "metadata": {
        "colab": {
          "base_uri": "https://localhost:8080/"
        },
        "id": "8DlZdadgzBpG",
        "outputId": "1219ddff-7c67-4169-8cca-d2f863a9104e"
      },
      "source": [
        "from google.colab import drive\n",
        "\n",
        "drive.mount(\"/content/gdrive\")"
      ],
      "execution_count": null,
      "outputs": [
        {
          "output_type": "stream",
          "name": "stdout",
          "text": [
            "Mounted at /content/gdrive\n"
          ]
        }
      ]
    },
    {
      "cell_type": "code",
      "metadata": {
        "colab": {
          "base_uri": "https://localhost:8080/"
        },
        "id": "zDohzNcpKGyM",
        "outputId": "086ff684-16ce-4ea8-8fb5-48243ebc1b4f"
      },
      "source": [
        "#!pip install keras==2.3.1\n",
        "%tensorflow==2.2"
      ],
      "execution_count": null,
      "outputs": [
        {
          "output_type": "stream",
          "name": "stderr",
          "text": [
            "UsageError: Line magic function `%tensorflow` not found.\n"
          ]
        }
      ]
    },
    {
      "cell_type": "code",
      "metadata": {
        "id": "GUghgoMH0DLP"
      },
      "source": [
        "import numpy as np\n",
        "import matplotlib\n",
        "import matplotlib.pyplot as plt\n",
        "import tensorflow as tf  # Version 1.0.0 (some previous versions are used in past commits)\n",
        "from sklearn import metrics\n",
        "from numpy import mean\n",
        "from numpy import std\n",
        "from numpy import dstack\n",
        "from pandas import read_csv\n",
        "from tensorflow.keras import callbacks\n",
        "from tensorflow.keras.models import Sequential\n",
        "from tensorflow.keras.layers import Dense\n",
        "from tensorflow.keras.layers import Flatten\n",
        "from tensorflow.keras.layers import Dropout, AveragePooling1D, AveragePooling2D\n",
        "from tensorflow.keras.layers import LSTM, Conv1D\n",
        "from tensorflow.keras.utils import to_categorical\n",
        "\n",
        "import os"
      ],
      "execution_count": null,
      "outputs": []
    },
    {
      "cell_type": "code",
      "metadata": {
        "colab": {
          "base_uri": "https://localhost:8080/"
        },
        "id": "zOsYqQW4wVIp",
        "outputId": "e029925e-a012-4647-fd1e-5ac569770db9"
      },
      "source": [
        "print(tf.__version__)"
      ],
      "execution_count": null,
      "outputs": [
        {
          "output_type": "stream",
          "name": "stdout",
          "text": [
            "2.6.0\n"
          ]
        }
      ]
    },
    {
      "cell_type": "code",
      "metadata": {
        "id": "u9jeAIvr0KrZ"
      },
      "source": [
        "#Các feature\n",
        "INPUT_SIGNAL_TYPES = [\n",
        "    \"total_acc_x_\",\n",
        "    \"total_acc_y_\",\n",
        "    \"total_acc_z_\"\n",
        "    \"body_acc_x_\",\n",
        "    \"body_acc_y_\",\n",
        "    \"body_acc_z_\",\n",
        "    \"body_gyro_x_\",\n",
        "    \"body_gyro_y_\",\n",
        "    \"body_gyro_z_\"\n",
        "]\n",
        "\n",
        "# Các lớp phân loại\n",
        "LABELS = [\n",
        "    \"WALKING\",\n",
        "    \"WALKING_UPSTAIRS\",\n",
        "    \"WALKING_DOWNSTAIRS\",\n",
        "    \"SITTING\",\n",
        "    \"STANDING\",\n",
        "    \"LAYING\"\n",
        "]"
      ],
      "execution_count": null,
      "outputs": []
    },
    {
      "cell_type": "code",
      "metadata": {
        "id": "laFHWyEa0NZb"
      },
      "source": [
        "folder = \"./gdrive/MyDrive/project1/dataset/\"\n",
        "\n",
        "# Load \"X\" (the neural network's training and testing inputs)\n"
      ],
      "execution_count": null,
      "outputs": []
    },
    {
      "cell_type": "code",
      "metadata": {
        "id": "k5OECrei7lME"
      },
      "source": [
        "# load a single file as a numpy array\n",
        "def load_file(filepath):\n",
        "\tdataframe = read_csv(filepath, header=None, delim_whitespace=True)\n",
        "\treturn dataframe.values"
      ],
      "execution_count": null,
      "outputs": []
    },
    {
      "cell_type": "code",
      "metadata": {
        "id": "GwZU_eC88S3X"
      },
      "source": [
        "# load a list of files into a 3D array of [samples, timesteps, features]\n",
        "def load_group(filenames, prefix=''):\n",
        "\tloaded = list()\n",
        "\tfor name in filenames:\n",
        "\t\tdata = load_file(prefix + name)\n",
        "\t\tloaded.append(data)\n",
        "\t# stack group so that features are the 3rd dimension\n",
        "\tloaded = dstack(loaded)\n",
        "\treturn loaded"
      ],
      "execution_count": null,
      "outputs": []
    },
    {
      "cell_type": "code",
      "metadata": {
        "id": "ZszbzS4E9yDZ"
      },
      "source": [
        "# load a dataset group, such as train or test\n",
        "def load_dataset_group(group, prefix=''):\n",
        "\tfilepath = prefix + group + '/Inertial Signals/'\n",
        "\t# load all 9 files as a single array\n",
        "\tfilenames = list()\n",
        "\t# total acceleration\n",
        "\tfilenames += ['total_acc_x_'+group+'.txt', 'total_acc_y_'+group+'.txt', 'total_acc_z_'+group+'.txt']\n",
        "\t# body acceleration\n",
        "\tfilenames += ['body_acc_x_'+group+'.txt', 'body_acc_y_'+group+'.txt', 'body_acc_z_'+group+'.txt']\n",
        "\t# body gyroscope\n",
        "\tfilenames += ['body_gyro_x_'+group+'.txt', 'body_gyro_y_'+group+'.txt', 'body_gyro_z_'+group+'.txt']\n",
        "\t# load input data\n",
        "\tX = load_group(filenames, filepath)\n",
        "\t# load class output\n",
        "\ty = load_file(prefix + group + '/y_'+group+'.txt')\n",
        "\treturn X, y"
      ],
      "execution_count": null,
      "outputs": []
    },
    {
      "cell_type": "code",
      "metadata": {
        "id": "TQoCjhoc99Tc"
      },
      "source": [
        "# load the dataset, returns train and test X and y elements\n",
        "def load_dataset(prefix=''):\n",
        "\t# load all train\n",
        "\ttrainX, trainy = load_dataset_group('train', prefix )\n",
        "\t#print(\"trainX.shape: {}, trainy.shape: {}\".format(trainX.shape, trainy.shape))\n",
        "\t# load all test\n",
        "\ttestX, testy = load_dataset_group('test', prefix )\n",
        "\t#print(testX.shape, testy.shape)\n",
        "\t# zero-offset class values\n",
        "\ttrainy = trainy - 1\n",
        "\ttesty = testy - 1\n",
        "\t# one hot encode y\n",
        "\ttrainy = to_categorical(trainy)\n",
        "\ttesty = to_categorical(testy)\n",
        "\tprint(\"trainX.shape: {}\\ntrainy.shape: {}\\ntestX.shape: {}\\ntesty.shape: {}\".format(trainX.shape, trainy.shape, testX.shape, testy.shape))\n",
        "\treturn trainX, trainy, testX, testy"
      ],
      "execution_count": null,
      "outputs": []
    },
    {
      "cell_type": "code",
      "metadata": {
        "id": "zo8XAGzx_8VK"
      },
      "source": [
        "# fit and evaluate a model\n",
        "def evaluate_model(trainX, trainy, testX, testy):\n",
        "  verbose, epochs, batch_size = 0, 100, 64\n",
        "  n_timesteps, n_features, n_outputs = trainX.shape[1], trainX.shape[2], trainy.shape[1]\n",
        "  EarlyStop = callbacks.EarlyStopping(min_delta=0.001, patience=20, restore_best_weights=True)\n",
        "  model = Sequential()\n",
        "  model.add(LSTM(25, input_shape=(n_timesteps,n_features),  return_sequences=True))\n",
        "  model.add(Conv1D(25, activation=\"relu\", kernel_size=3, padding=\"same\"))\n",
        "  model.add(AveragePooling1D(pool_size=2))\n",
        "  model.add(MaxPooling1D(pool_size=5))\n",
        "  model.add(Flatten())\n",
        "  model.add(Dense(30, activation='relu'))\n",
        "  model.add(Dropout(0.5))\n",
        "  model.add(Dense(20, activation='relu'))\n",
        "  model.add(Dense(n_outputs, activation='softmax'))\n",
        "  model.summary()\n",
        "  model.compile(loss='categorical_crossentropy', optimizer='adam', metrics=['accuracy'])\n",
        "\t# fit network\n",
        "\n",
        "  history = model.fit(trainX, trainy, epochs=epochs, batch_size=batch_size, verbose=1, validation_data=(testX, testy), callbacks=[EarlyStop])\n",
        "\t# evaluate model\n",
        "  _, accuracy = model.evaluate(testX, testy, batch_size=batch_size, verbose=0)\n",
        "  return model, accuracy, history\n"
      ],
      "execution_count": null,
      "outputs": []
    },
    {
      "cell_type": "code",
      "metadata": {
        "id": "WM0lDW2vCjE_"
      },
      "source": [
        "# summarize scores\n",
        "def summarize_results(scores):\n",
        "\tprint(scores)\n",
        "\tm, s = mean(scores), std(scores)\n",
        "\tprint('Accuracy: %.3f%% (+/-%.3f)' % (m, s))\n"
      ],
      "execution_count": null,
      "outputs": []
    },
    {
      "cell_type": "code",
      "metadata": {
        "id": "TT5xrSJjCk2X"
      },
      "source": [
        "def run_experiment(repeats=10):\n",
        "\t# load data\n",
        "\ttrainX, trainy, testX, testy = load_dataset(folder)\n",
        "\t# repeat experiment\n",
        "\tscores = list()\n",
        "\tfor r in range(repeats):\n",
        "\t\tscore = evaluate_model(trainX, trainy, testX, testy)\n",
        "\t\tscore = score * 100.0\n",
        "\t\tprint('>#%d: %.3f' % (r+1, score))\n",
        "\t\tscores.append(score)\n",
        "\t# summarize results\n",
        "\tsummarize_results(scores)\n"
      ],
      "execution_count": null,
      "outputs": []
    },
    {
      "cell_type": "code",
      "metadata": {
        "colab": {
          "base_uri": "https://localhost:8080/"
        },
        "id": "PIM-AhmbcR7i",
        "outputId": "c5f52bf6-803e-4447-ba87-52308de1fb16"
      },
      "source": [
        "trainX, trainy, testX, testy = load_dataset(folder)"
      ],
      "execution_count": null,
      "outputs": [
        {
          "output_type": "stream",
          "name": "stdout",
          "text": [
            "trainX.shape: (7352, 128, 9)\n",
            "trainy.shape: (7352, 6)\n",
            "testX.shape: (2947, 128, 9)\n",
            "testy.shape: (2947, 6)\n"
          ]
        }
      ]
    },
    {
      "cell_type": "code",
      "metadata": {
        "id": "2VJEpq-dTDVu",
        "colab": {
          "base_uri": "https://localhost:8080/"
        },
        "outputId": "841c36ce-2c08-4f38-c4a7-b3d38cd3361f"
      },
      "source": [
        "print(trainX[0, :, 2])"
      ],
      "execution_count": null,
      "outputs": [
        {
          "output_type": "stream",
          "name": "stdout",
          "text": [
            "[0.1029341  0.1056872  0.1021025  0.1065527  0.1028135  0.1074931\n",
            " 0.1093857  0.1038862  0.1024732  0.0975659  0.09764665 0.09537356\n",
            " 0.09367106 0.09921876 0.09997368 0.09889572 0.0962825  0.09765831\n",
            " 0.1004408  0.09846986 0.1015699  0.1021059  0.1005147  0.1021144\n",
            " 0.100956   0.1014768  0.1014304  0.1000858  0.09980876 0.09743248\n",
            " 0.09520512 0.09369074 0.09435198 0.09595278 0.0986602  0.1049836\n",
            " 0.1066249  0.1064143  0.109485   0.107602   0.1030893  0.1005282\n",
            " 0.09970745 0.1006193  0.1000773  0.1021935  0.107519   0.108948\n",
            " 0.107225   0.1045164  0.102301   0.09824694 0.09383632 0.1008436\n",
            " 0.1089435  0.1037146  0.1004966  0.1040357  0.1024968  0.1001817\n",
            " 0.1002736  0.09922501 0.09939194 0.0985878  0.09792958 0.09935086\n",
            " 0.09811381 0.09751712 0.0974719  0.09657678 0.09774064 0.09730921\n",
            " 0.09815882 0.1011657  0.1016211  0.1015734  0.1011669  0.1013595\n",
            " 0.1011384  0.09923839 0.1005806  0.1025034  0.1001684  0.09859667\n",
            " 0.1007798  0.1003598  0.09920002 0.1017142  0.101472   0.1012259\n",
            " 0.1026532  0.1016078  0.1006335  0.09614245 0.09032558 0.0899055\n",
            " 0.0931167  0.09574084 0.09424991 0.09448054 0.09775536 0.09900205\n",
            " 0.09852306 0.09542946 0.0942117  0.09773522 0.1021875  0.1034573\n",
            " 0.09961019 0.09758879 0.09861568 0.09788232 0.09687653 0.09700962\n",
            " 0.09758221 0.09707332 0.09742485 0.0993411  0.1000578  0.09856404\n",
            " 0.09317716 0.08874205 0.09050464 0.09484291 0.09835045 0.1003852\n",
            " 0.09987355 0.09498741]\n"
          ]
        }
      ]
    },
    {
      "cell_type": "code",
      "metadata": {
        "colab": {
          "base_uri": "https://localhost:8080/",
          "height": 641
        },
        "id": "rytgEI46RtuE",
        "outputId": "a33fed5c-cbc4-48ee-a07d-436b3dcd4636"
      },
      "source": [
        "fig, ax = plt.subplots(2, 2, figsize=(10, 10))\n",
        "index = 100\n",
        "print(LABELS[np.argmax(trainy[index])])\n",
        "ax[0, 0].plot(np.arange(0, 128, 1), trainX[index, :, 0], 'g', label=\"x\")\n",
        "ax[0, 0].plot(np.arange(0, 128, 1), trainX[index, :, 1], 'r', label=\"y\")\n",
        "ax[0, 0].plot(np.arange(0, 128, 1), trainX[index, :, 2], 'b', label=\"z\")\n",
        "ax[0, 0].set_title(\"total acce\")\n",
        "ax[0, 0].legend(loc='best')\n",
        "\n",
        "ax[0, 1].plot(np.arange(0, 128, 1), trainX[index, :, 3], 'g', label=\"x\")\n",
        "ax[0, 1].plot(np.arange(0, 128, 1), trainX[index, :, 4], 'r', label=\"y\")\n",
        "ax[0, 1].plot(np.arange(0, 128, 1), trainX[index, :, 5], 'b', label=\"z\")\n",
        "ax[0, 1].set_title(\"body acc\")\n",
        "ax[0, 1].legend(loc='best')\n",
        "\n",
        "ax[1, 0].plot(np.arange(0, 128, 1), trainX[index, :, 6], 'g', label=\"x\")\n",
        "ax[1, 0].plot(np.arange(0, 128, 1), trainX[index, :, 7], 'r', label=\"y\")\n",
        "ax[1, 0].plot(np.arange(0, 128, 1), trainX[index, :, 8], 'b', label=\"z\")\n",
        "ax[1, 0].set_title(\"body gyro\")\n",
        "ax[1, 0].legend(loc='best')\n",
        "\n",
        "\n"
      ],
      "execution_count": null,
      "outputs": [
        {
          "output_type": "stream",
          "name": "stdout",
          "text": [
            "WALKING\n"
          ]
        },
        {
          "output_type": "execute_result",
          "data": {
            "text/plain": [
              "<matplotlib.legend.Legend at 0x7fc2b566df50>"
            ]
          },
          "metadata": {},
          "execution_count": 19
        },
        {
          "output_type": "display_data",
          "data": {
            "image/png": "[encoded data removed]",
            "text/plain": [
              "<Figure size 720x720 with 4 Axes>"
            ]
          },
          "metadata": {
            "needs_background": "light"
          }
        }
      ]
    },
    {
      "cell_type": "code",
      "metadata": {
        "colab": {
          "base_uri": "https://localhost:8080/"
        },
        "id": "k8ZzSwQiGAA2",
        "outputId": "23efc9c6-6d96-479d-a85c-458095b5ca3f"
      },
      "source": [
        "model, score, history = evaluate_model(trainX, trainy, testX, testy)"
      ],
      "execution_count": null,
      "outputs": [
        {
          "output_type": "stream",
          "name": "stdout",
          "text": [
            "Model: \"sequential_7\"\n",
            "_________________________________________________________________\n",
            "Layer (type)                 Output Shape              Param #   \n",
            "=================================================================\n",
            "lstm_7 (LSTM)                (None, 128, 25)           3500      \n",
            "_________________________________________________________________\n",
            "conv1d_6 (Conv1D)            (None, 128, 25)           1900      \n",
            "_________________________________________________________________\n",
            "average_pooling1d_6 (Average (None, 64, 25)            0         \n",
            "_________________________________________________________________\n",
            "max_pooling1d (MaxPooling1D) (None, 12, 25)            0         \n",
            "_________________________________________________________________\n",
            "flatten_4 (Flatten)          (None, 300)               0         \n",
            "_________________________________________________________________\n",
            "dense_9 (Dense)              (None, 30)                9030      \n",
            "_________________________________________________________________\n",
            "dropout_3 (Dropout)          (None, 30)                0         \n",
            "_________________________________________________________________\n",
            "dense_10 (Dense)             (None, 20)                620       \n",
            "_________________________________________________________________\n",
            "dense_11 (Dense)             (None, 6)                 126       \n",
            "=================================================================\n",
            "Total params: 15,176\n",
            "Trainable params: 15,176\n",
            "Non-trainable params: 0\n",
            "_________________________________________________________________\n",
            "Epoch 1/100\n",
            "115/115 [==============================] - 10s 71ms/step - loss: 1.2637 - accuracy: 0.4606 - val_loss: 0.8328 - val_accuracy: 0.6654\n",
            "Epoch 2/100\n",
            "115/115 [==============================] - 8s 67ms/step - loss: 0.7863 - accuracy: 0.6372 - val_loss: 0.7104 - val_accuracy: 0.6949\n",
            "Epoch 3/100\n",
            "115/115 [==============================] - 8s 68ms/step - loss: 0.6642 - accuracy: 0.7016 - val_loss: 0.6295 - val_accuracy: 0.7408\n",
            "Epoch 4/100\n",
            "115/115 [==============================] - 8s 67ms/step - loss: 0.4977 - accuracy: 0.7820 - val_loss: 0.5383 - val_accuracy: 0.8008\n",
            "Epoch 5/100\n",
            "115/115 [==============================] - 8s 66ms/step - loss: 0.4109 - accuracy: 0.8341 - val_loss: 0.4710 - val_accuracy: 0.8449\n",
            "Epoch 6/100\n",
            "115/115 [==============================] - 8s 68ms/step - loss: 0.3026 - accuracy: 0.8881 - val_loss: 0.4152 - val_accuracy: 0.8558\n",
            "Epoch 7/100\n",
            "115/115 [==============================] - 8s 67ms/step - loss: 0.2246 - accuracy: 0.9127 - val_loss: 0.4219 - val_accuracy: 0.8877\n",
            "Epoch 8/100\n",
            "115/115 [==============================] - 8s 68ms/step - loss: 0.1996 - accuracy: 0.9191 - val_loss: 0.4717 - val_accuracy: 0.8836\n",
            "Epoch 9/100\n",
            "115/115 [==============================] - 8s 68ms/step - loss: 0.1885 - accuracy: 0.9241 - val_loss: 0.3938 - val_accuracy: 0.8867\n",
            "Epoch 10/100\n",
            "115/115 [==============================] - 8s 68ms/step - loss: 0.1697 - accuracy: 0.9331 - val_loss: 0.4862 - val_accuracy: 0.8846\n",
            "Epoch 11/100\n",
            "115/115 [==============================] - 8s 67ms/step - loss: 0.1650 - accuracy: 0.9377 - val_loss: 0.4264 - val_accuracy: 0.8911\n",
            "Epoch 12/100\n",
            "115/115 [==============================] - 8s 68ms/step - loss: 0.1597 - accuracy: 0.9393 - val_loss: 0.4768 - val_accuracy: 0.8863\n",
            "Epoch 13/100\n",
            "115/115 [==============================] - 8s 67ms/step - loss: 0.1753 - accuracy: 0.9306 - val_loss: 0.4492 - val_accuracy: 0.8975\n",
            "Epoch 14/100\n",
            "115/115 [==============================] - 8s 68ms/step - loss: 0.1656 - accuracy: 0.9340 - val_loss: 0.4317 - val_accuracy: 0.9013\n",
            "Epoch 15/100\n",
            "115/115 [==============================] - 8s 69ms/step - loss: 0.1489 - accuracy: 0.9373 - val_loss: 0.4585 - val_accuracy: 0.8982\n",
            "Epoch 16/100\n",
            "115/115 [==============================] - 8s 68ms/step - loss: 0.1504 - accuracy: 0.9363 - val_loss: 0.4875 - val_accuracy: 0.8867\n",
            "Epoch 17/100\n",
            "115/115 [==============================] - 8s 67ms/step - loss: 0.1384 - accuracy: 0.9445 - val_loss: 0.5169 - val_accuracy: 0.8941\n",
            "Epoch 18/100\n",
            "115/115 [==============================] - 8s 67ms/step - loss: 0.1370 - accuracy: 0.9425 - val_loss: 0.5254 - val_accuracy: 0.8965\n",
            "Epoch 19/100\n",
            "115/115 [==============================] - 8s 67ms/step - loss: 0.1406 - accuracy: 0.9445 - val_loss: 0.4534 - val_accuracy: 0.8826\n",
            "Epoch 20/100\n",
            "115/115 [==============================] - 8s 67ms/step - loss: 0.1408 - accuracy: 0.9431 - val_loss: 0.5762 - val_accuracy: 0.8941\n",
            "Epoch 21/100\n",
            "115/115 [==============================] - 8s 68ms/step - loss: 0.1292 - accuracy: 0.9442 - val_loss: 0.5205 - val_accuracy: 0.8979\n",
            "Epoch 22/100\n",
            "115/115 [==============================] - 8s 68ms/step - loss: 0.1389 - accuracy: 0.9434 - val_loss: 0.4355 - val_accuracy: 0.9053\n",
            "Epoch 23/100\n",
            "115/115 [==============================] - 8s 67ms/step - loss: 0.1343 - accuracy: 0.9455 - val_loss: 0.4766 - val_accuracy: 0.9006\n",
            "Epoch 24/100\n",
            "115/115 [==============================] - 8s 67ms/step - loss: 0.1424 - accuracy: 0.9437 - val_loss: 0.3778 - val_accuracy: 0.9009\n",
            "Epoch 25/100\n",
            "115/115 [==============================] - 8s 68ms/step - loss: 0.1266 - accuracy: 0.9446 - val_loss: 0.4539 - val_accuracy: 0.9040\n",
            "Epoch 26/100\n",
            "115/115 [==============================] - 8s 67ms/step - loss: 0.1713 - accuracy: 0.9422 - val_loss: 0.4534 - val_accuracy: 0.9030\n",
            "Epoch 27/100\n",
            "115/115 [==============================] - 8s 68ms/step - loss: 0.1311 - accuracy: 0.9471 - val_loss: 0.4453 - val_accuracy: 0.8982\n",
            "Epoch 28/100\n",
            "115/115 [==============================] - 8s 68ms/step - loss: 0.1301 - accuracy: 0.9478 - val_loss: 0.4372 - val_accuracy: 0.9104\n",
            "Epoch 29/100\n",
            "115/115 [==============================] - 8s 67ms/step - loss: 0.1305 - accuracy: 0.9456 - val_loss: 0.3773 - val_accuracy: 0.9033\n",
            "Epoch 30/100\n",
            "115/115 [==============================] - 8s 67ms/step - loss: 0.1257 - accuracy: 0.9471 - val_loss: 0.4375 - val_accuracy: 0.9094\n",
            "Epoch 31/100\n",
            "115/115 [==============================] - 8s 68ms/step - loss: 0.1254 - accuracy: 0.9470 - val_loss: 0.4854 - val_accuracy: 0.8975\n",
            "Epoch 32/100\n",
            "115/115 [==============================] - 8s 69ms/step - loss: 0.1221 - accuracy: 0.9476 - val_loss: 0.4674 - val_accuracy: 0.9155\n",
            "Epoch 33/100\n",
            "115/115 [==============================] - 8s 68ms/step - loss: 0.1198 - accuracy: 0.9493 - val_loss: 0.5215 - val_accuracy: 0.9053\n",
            "Epoch 34/100\n",
            "115/115 [==============================] - 8s 67ms/step - loss: 0.1238 - accuracy: 0.9484 - val_loss: 0.5326 - val_accuracy: 0.8975\n",
            "Epoch 35/100\n",
            "115/115 [==============================] - 8s 67ms/step - loss: 0.1203 - accuracy: 0.9508 - val_loss: 0.5498 - val_accuracy: 0.8958\n",
            "Epoch 36/100\n",
            "115/115 [==============================] - 8s 68ms/step - loss: 0.1222 - accuracy: 0.9524 - val_loss: 0.5627 - val_accuracy: 0.8999\n",
            "Epoch 37/100\n",
            "115/115 [==============================] - 8s 67ms/step - loss: 0.1344 - accuracy: 0.9471 - val_loss: 0.4639 - val_accuracy: 0.9108\n",
            "Epoch 38/100\n",
            "115/115 [==============================] - 8s 67ms/step - loss: 0.1231 - accuracy: 0.9517 - val_loss: 0.5200 - val_accuracy: 0.9101\n",
            "Epoch 39/100\n",
            "115/115 [==============================] - 8s 67ms/step - loss: 0.1220 - accuracy: 0.9502 - val_loss: 0.5640 - val_accuracy: 0.9111\n",
            "Epoch 40/100\n",
            "115/115 [==============================] - 8s 67ms/step - loss: 0.1170 - accuracy: 0.9538 - val_loss: 0.5219 - val_accuracy: 0.9053\n",
            "Epoch 41/100\n",
            "115/115 [==============================] - 8s 68ms/step - loss: 0.1829 - accuracy: 0.9483 - val_loss: 0.4833 - val_accuracy: 0.9091\n",
            "Epoch 42/100\n",
            "115/115 [==============================] - 8s 67ms/step - loss: 0.1233 - accuracy: 0.9514 - val_loss: 0.5713 - val_accuracy: 0.9094\n",
            "Epoch 43/100\n",
            "115/115 [==============================] - 8s 68ms/step - loss: 0.1224 - accuracy: 0.9506 - val_loss: 0.4979 - val_accuracy: 0.9104\n",
            "Epoch 44/100\n",
            "115/115 [==============================] - 8s 68ms/step - loss: 0.1204 - accuracy: 0.9505 - val_loss: 0.5727 - val_accuracy: 0.8941\n"
          ]
        }
      ]
    },
    {
      "cell_type": "code",
      "metadata": {
        "colab": {
          "base_uri": "https://localhost:8080/"
        },
        "id": "rKv2U5G9Oiu5",
        "outputId": "e28f4269-c5db-4081-b976-6aca61bda470"
      },
      "source": [
        "summarize_results(score)"
      ],
      "execution_count": null,
      "outputs": [
        {
          "output_type": "stream",
          "name": "stdout",
          "text": [
            "0.9009161591529846\n",
            "Accuracy: 0.901% (+/-0.000)\n"
          ]
        }
      ]
    },
    {
      "cell_type": "code",
      "metadata": {
        "colab": {
          "base_uri": "https://localhost:8080/"
        },
        "id": "dVvRE7xWO16u",
        "outputId": "1f6351be-fa75-40ab-ab6e-b092ebc14bb3"
      },
      "source": [
        "model.summary()"
      ],
      "execution_count": null,
      "outputs": [
        {
          "output_type": "stream",
          "name": "stdout",
          "text": [
            "Model: \"sequential_6\"\n",
            "_________________________________________________________________\n",
            "Layer (type)                 Output Shape              Param #   \n",
            "=================================================================\n",
            "lstm_6 (LSTM)                (None, 128, 25)           3500      \n",
            "_________________________________________________________________\n",
            "conv1d_5 (Conv1D)            (None, 128, 25)           1900      \n",
            "_________________________________________________________________\n",
            "average_pooling1d_5 (Average (None, 12, 25)            0         \n",
            "_________________________________________________________________\n",
            "flatten_3 (Flatten)          (None, 300)               0         \n",
            "_________________________________________________________________\n",
            "dense_6 (Dense)              (None, 30)                9030      \n",
            "_________________________________________________________________\n",
            "dropout_2 (Dropout)          (None, 30)                0         \n",
            "_________________________________________________________________\n",
            "dense_7 (Dense)              (None, 20)                620       \n",
            "_________________________________________________________________\n",
            "dense_8 (Dense)              (None, 6)                 126       \n",
            "=================================================================\n",
            "Total params: 15,176\n",
            "Trainable params: 15,176\n",
            "Non-trainable params: 0\n",
            "_________________________________________________________________\n"
          ]
        }
      ]
    },
    {
      "cell_type": "code",
      "metadata": {
        "id": "8DFRa7GGPWWg"
      },
      "source": [
        "model.save(\"modelv7.h5\")"
      ],
      "execution_count": null,
      "outputs": []
    },
    {
      "cell_type": "markdown",
      "metadata": {
        "id": "C7xverThFluV"
      },
      "source": [
        "# Mục mới"
      ]
    },
    {
      "cell_type": "code",
      "metadata": {
        "id": "MweIzvsOaXf9",
        "colab": {
          "base_uri": "https://localhost:8080/"
        },
        "outputId": "c45065e3-68ae-4958-eb6a-f7022547e076"
      },
      "source": [
        "print(keras.__version__)"
      ],
      "execution_count": null,
      "outputs": [
        {
          "output_type": "stream",
          "name": "stdout",
          "text": [
            "2.4.3\n"
          ]
        }
      ]
    },
    {
      "cell_type": "code",
      "metadata": {
        "id": "NDsiCX3TR5qO"
      },
      "source": [
        "import tensorflow as tf\n"
      ],
      "execution_count": null,
      "outputs": []
    },
    {
      "cell_type": "code",
      "metadata": {
        "colab": {
          "base_uri": "https://localhost:8080/"
        },
        "id": "ffnB8lRMRTbe",
        "outputId": "dc3972fc-4474-46c1-8b7c-df1c47ad6ed0"
      },
      "source": [
        "converter = tf.lite.TFLiteConverter.from_keras_model(model)\n",
        "converter.optimizations = [tf.lite.Optimize.DEFAULT]\n",
        "tflite_model = converter.convert()\n",
        "\n",
        "model_name = \"modelv4\"\n",
        "\n",
        "open(model_name + '.tflite', 'wb').write(tflite_model)"
      ],
      "execution_count": null,
      "outputs": [
        {
          "output_type": "stream",
          "name": "stderr",
          "text": [
            "WARNING:absl:Found untraced functions such as lstm_cell_layer_call_fn, lstm_cell_layer_call_and_return_conditional_losses, lstm_cell_1_layer_call_fn, lstm_cell_1_layer_call_and_return_conditional_losses, lstm_cell_layer_call_fn while saving (showing 5 of 10). These functions will not be directly callable after loading.\n"
          ]
        },
        {
          "output_type": "stream",
          "name": "stdout",
          "text": [
            "INFO:tensorflow:Assets written to: /tmp/tmp7cwmuxzx/assets\n"
          ]
        },
        {
          "output_type": "stream",
          "name": "stderr",
          "text": [
            "INFO:tensorflow:Assets written to: /tmp/tmp7cwmuxzx/assets\n"
          ]
        },
        {
          "output_type": "execute_result",
          "data": {
            "text/plain": [
              "53056"
            ]
          },
          "metadata": {},
          "execution_count": 29
        }
      ]
    },
    {
      "cell_type": "code",
      "metadata": {
        "colab": {
          "base_uri": "https://localhost:8080/",
          "height": 162
        },
        "id": "nvvDbYcjTEfe",
        "outputId": "057c74ab-917d-4c1c-ee9e-9472df61e994"
      },
      "source": [
        "model.predict(testX[0])"
      ],
      "execution_count": null,
      "outputs": [
        {
          "output_type": "error",
          "ename": "NameError",
          "evalue": "ignored",
          "traceback": [
            "\u001b[0;31m---------------------------------------------------------------------------\u001b[0m",
            "\u001b[0;31mNameError\u001b[0m                                 Traceback (most recent call last)",
            "\u001b[0;32m<ipython-input-1-2cd099a4b2f4>\u001b[0m in \u001b[0;36m<module>\u001b[0;34m()\u001b[0m\n\u001b[0;32m----> 1\u001b[0;31m \u001b[0mmodel\u001b[0m\u001b[0;34m.\u001b[0m\u001b[0mpredict\u001b[0m\u001b[0;34m(\u001b[0m\u001b[0mtestX\u001b[0m\u001b[0;34m[\u001b[0m\u001b[0;36m0\u001b[0m\u001b[0;34m]\u001b[0m\u001b[0;34m)\u001b[0m\u001b[0;34m\u001b[0m\u001b[0;34m\u001b[0m\u001b[0m\n\u001b[0m",
            "\u001b[0;31mNameError\u001b[0m: name 'model' is not defined"
          ]
        }
      ]
    },
    {
      "cell_type": "code",
      "metadata": {
        "id": "oqL66ggPV4Z7"
      },
      "source": [
        "# Function: Convert some hex value into an array for C programming\n",
        "def hex_to_c_array(hex_data, var_name):\n",
        "\n",
        "  c_str = ''\n",
        "\n",
        "  # Create header guard\n",
        "  c_str += '#ifndef ' + var_name.upper() + '_H\\n'\n",
        "  c_str += '#define ' + var_name.upper() + '_H\\n\\n'\n",
        "\n",
        "  # Add array length at top of file\n",
        "  c_str += '\\nunsigned int ' + var_name + '_len = ' + str(len(hex_data)) + ';\\n'\n",
        "\n",
        "  # Declare C variable\n",
        "  c_str += 'unsigned char ' + var_name + '[] = {'\n",
        "  hex_array = []\n",
        "  for i, val in enumerate(hex_data) :\n",
        "\n",
        "    # Construct string from hex\n",
        "    hex_str = format(val, '#04x')\n",
        "\n",
        "    # Add formatting so each line stays within 80 characters\n",
        "    if (i + 1) < len(hex_data):\n",
        "      hex_str += ','\n",
        "    if (i + 1) % 12 == 0:\n",
        "      hex_str += '\\n '\n",
        "    hex_array.append(hex_str)\n",
        "\n",
        "  # Add closing brace\n",
        "  c_str += '\\n ' + format(' '.join(hex_array)) + '\\n};\\n\\n'\n",
        "\n",
        "  # Close out header guard\n",
        "  c_str += '#endif //' + var_name.upper() + '_H'\n",
        "\n",
        "  return c_str"
      ],
      "execution_count": null,
      "outputs": []
    },
    {
      "cell_type": "code",
      "metadata": {
        "id": "rsQKuK0dV5_D"
      },
      "source": [
        "# Write TFLite model to a C source (or header) file\n",
        "c_model_name = \"train_modelv3\"\n",
        "with open(c_model_name + '.h', 'w') as file:\n",
        "  file.write(hex_to_c_array(tflite_model, c_model_name))"
      ],
      "execution_count": null,
      "outputs": []
    },
    {
      "cell_type": "code",
      "metadata": {
        "id": "6HH7bWGVX9Bg"
      },
      "source": [
        "modelv4 = tf.keras.models.load_model(\"modelv4.h5\")\n",
        "modelv5 = tf.keras.models.load_model(\"modelv5.h5\")\n",
        "modelv6 = tf.keras.models.load_model(\"modelv6.h5\")\n",
        "modelv7 = tf.keras.models.load_model(\"modelv7.h5\")"
      ],
      "execution_count": null,
      "outputs": []
    },
    {
      "cell_type": "code",
      "metadata": {
        "colab": {
          "base_uri": "https://localhost:8080/"
        },
        "id": "Gcl7OFvfZOAP",
        "outputId": "79028981-d5ef-402c-c532-0c258869b9e8"
      },
      "source": [
        "modelv4.summary()\n",
        "modelv4.evaluate(testX, testy)"
      ],
      "execution_count": null,
      "outputs": [
        {
          "output_type": "stream",
          "name": "stdout",
          "text": [
            "Model: \"sequential_9\"\n",
            "_________________________________________________________________\n",
            "Layer (type)                 Output Shape              Param #   \n",
            "=================================================================\n",
            "lstm_27 (LSTM)               (None, 128, 35)           6300      \n",
            "_________________________________________________________________\n",
            "lstm_28 (LSTM)               (None, 25)                6100      \n",
            "_________________________________________________________________\n",
            "flatten_8 (Flatten)          (None, 25)                0         \n",
            "_________________________________________________________________\n",
            "dropout_8 (Dropout)          (None, 25)                0         \n",
            "_________________________________________________________________\n",
            "dense_24 (Dense)             (None, 30)                780       \n",
            "_________________________________________________________________\n",
            "dense_25 (Dense)             (None, 20)                620       \n",
            "_________________________________________________________________\n",
            "dense_26 (Dense)             (None, 6)                 126       \n",
            "=================================================================\n",
            "Total params: 13,926\n",
            "Trainable params: 13,926\n",
            "Non-trainable params: 0\n",
            "_________________________________________________________________\n",
            "93/93 [==============================] - 3s 24ms/step - loss: 0.3793 - accuracy: 0.9138\n"
          ]
        },
        {
          "output_type": "execute_result",
          "data": {
            "text/plain": [
              "[0.37927448749542236, 0.913810670375824]"
            ]
          },
          "metadata": {},
          "execution_count": 19
        }
      ]
    },
    {
      "cell_type": "code",
      "metadata": {
        "colab": {
          "base_uri": "https://localhost:8080/"
        },
        "id": "SaUYaPs_fRmy",
        "outputId": "eb24e175-bacb-4c5f-d874-673619e0c8d9"
      },
      "source": [
        "modelv6.summary()\n",
        "modelv6.evaluate(testX, testy)"
      ],
      "execution_count": null,
      "outputs": [
        {
          "output_type": "stream",
          "name": "stdout",
          "text": [
            "Model: \"sequential\"\n",
            "_________________________________________________________________\n",
            "Layer (type)                 Output Shape              Param #   \n",
            "=================================================================\n",
            "lstm (LSTM)                  (None, 128, 25)           3500      \n",
            "_________________________________________________________________\n",
            "average_pooling1d (AveragePo (None, 25, 25)            0         \n",
            "_________________________________________________________________\n",
            "lstm_1 (LSTM)                (None, 25)                5100      \n",
            "_________________________________________________________________\n",
            "flatten (Flatten)            (None, 25)                0         \n",
            "_________________________________________________________________\n",
            "dense (Dense)                (None, 30)                780       \n",
            "_________________________________________________________________\n",
            "dropout (Dropout)            (None, 30)                0         \n",
            "_________________________________________________________________\n",
            "dense_1 (Dense)              (None, 20)                620       \n",
            "_________________________________________________________________\n",
            "dense_2 (Dense)              (None, 6)                 126       \n",
            "=================================================================\n",
            "Total params: 10,126\n",
            "Trainable params: 10,126\n",
            "Non-trainable params: 0\n",
            "_________________________________________________________________\n",
            "93/93 [==============================] - 1s 15ms/step - loss: 0.4170 - accuracy: 0.9223\n"
          ]
        },
        {
          "output_type": "execute_result",
          "data": {
            "text/plain": [
              "[0.4169643223285675, 0.9222938418388367]"
            ]
          },
          "metadata": {},
          "execution_count": 26
        }
      ]
    },
    {
      "cell_type": "code",
      "metadata": {
        "colab": {
          "base_uri": "https://localhost:8080/"
        },
        "id": "1mTOX45FfW-8",
        "outputId": "5ec0e581-c439-460c-f2fd-7406ec2f0bdb"
      },
      "source": [
        "modelv7.summary()\n",
        "modelv7.evaluate(testX, testy)"
      ],
      "execution_count": null,
      "outputs": [
        {
          "output_type": "stream",
          "name": "stdout",
          "text": [
            "Model: \"sequential_1\"\n",
            "_________________________________________________________________\n",
            "Layer (type)                 Output Shape              Param #   \n",
            "=================================================================\n",
            "lstm_2 (LSTM)                (None, 128, 25)           3500      \n",
            "_________________________________________________________________\n",
            "average_pooling1d_1 (Average (None, 25, 25)            0         \n",
            "_________________________________________________________________\n",
            "lstm_3 (LSTM)                (None, 25)                5100      \n",
            "_________________________________________________________________\n",
            "flatten_1 (Flatten)          (None, 25)                0         \n",
            "_________________________________________________________________\n",
            "dense_3 (Dense)              (None, 30)                780       \n",
            "_________________________________________________________________\n",
            "dropout_1 (Dropout)          (None, 30)                0         \n",
            "_________________________________________________________________\n",
            "dense_4 (Dense)              (None, 20)                620       \n",
            "_________________________________________________________________\n",
            "dense_5 (Dense)              (None, 6)                 126       \n",
            "=================================================================\n",
            "Total params: 10,126\n",
            "Trainable params: 10,126\n",
            "Non-trainable params: 0\n",
            "_________________________________________________________________\n",
            "93/93 [==============================] - 1s 15ms/step - loss: 0.7968 - accuracy: 0.8979\n"
          ]
        },
        {
          "output_type": "execute_result",
          "data": {
            "text/plain": [
              "[0.7968264818191528, 0.8978622555732727]"
            ]
          },
          "metadata": {},
          "execution_count": 27
        }
      ]
    },
    {
      "cell_type": "code",
      "metadata": {
        "colab": {
          "base_uri": "https://localhost:8080/"
        },
        "id": "VL-Pr0KxiqmI",
        "outputId": "9b421de2-77ea-4a7a-cdfa-b12714f32302"
      },
      "source": [
        "model.summary()\n",
        "model.evaluate(testX, testy)"
      ],
      "execution_count": null,
      "outputs": [
        {
          "output_type": "stream",
          "name": "stdout",
          "text": [
            "Model: \"sequential\"\n",
            "_________________________________________________________________\n",
            "Layer (type)                 Output Shape              Param #   \n",
            "=================================================================\n",
            "lstm (LSTM)                  (None, 128, 25)           3500      \n",
            "_________________________________________________________________\n",
            "average_pooling1d (AveragePo (None, 25, 25)            0         \n",
            "_________________________________________________________________\n",
            "lstm_1 (LSTM)                (None, 25)                5100      \n",
            "_________________________________________________________________\n",
            "flatten (Flatten)            (None, 25)                0         \n",
            "_________________________________________________________________\n",
            "dense (Dense)                (None, 30)                780       \n",
            "_________________________________________________________________\n",
            "dropout (Dropout)            (None, 30)                0         \n",
            "_________________________________________________________________\n",
            "dense_1 (Dense)              (None, 20)                620       \n",
            "_________________________________________________________________\n",
            "dense_2 (Dense)              (None, 6)                 126       \n",
            "=================================================================\n",
            "Total params: 10,126\n",
            "Trainable params: 10,126\n",
            "Non-trainable params: 0\n",
            "_________________________________________________________________\n",
            "93/93 [==============================] - 1s 15ms/step - loss: 0.9213 - accuracy: 0.9135\n"
          ]
        },
        {
          "output_type": "execute_result",
          "data": {
            "text/plain": [
              "[0.9213133454322815, 0.9134713411331177]"
            ]
          },
          "metadata": {},
          "execution_count": 28
        }
      ]
    }
  ]
}